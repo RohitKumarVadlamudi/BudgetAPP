{
  "nbformat": 4,
  "nbformat_minor": 0,
  "metadata": {
    "colab": {
      "provenance": [],
      "authorship_tag": "ABX9TyPVVK5rUEeVIVk3SIl+UELS",
      "include_colab_link": true
    },
    "kernelspec": {
      "name": "python3",
      "display_name": "Python 3"
    },
    "language_info": {
      "name": "python"
    }
  },
  "cells": [
    {
      "cell_type": "markdown",
      "metadata": {
        "id": "view-in-github",
        "colab_type": "text"
      },
      "source": [
        "<a href=\"https://colab.research.google.com/github/RohitKumarVadlamudi/BudgetAPP/blob/main/database.ipynb\" target=\"_parent\"><img src=\"https://colab.research.google.com/assets/colab-badge.svg\" alt=\"Open In Colab\"/></a>"
      ]
    },
    {
      "cell_type": "code",
      "source": [
        "!pip install -q ipython-sql\n",
        "# Load the ipython-sql extension\n",
        "%load_ext sql\n",
        "\n",
        "# Connect to your SQLite database file\n",
        "%sql sqlite:////content/drive/MyDrive/BudgetAPP/budget.db"
      ],
      "metadata": {
        "colab": {
          "base_uri": "https://localhost:8080/"
        },
        "id": "-kAVBmJ9ZR-Y",
        "outputId": "66f5384f-fcb5-4215-bf57-8f64121f5543"
      },
      "execution_count": 24,
      "outputs": [
        {
          "output_type": "stream",
          "name": "stdout",
          "text": [
            "The sql extension is already loaded. To reload it, use:\n",
            "  %reload_ext sql\n"
          ]
        }
      ]
    },
    {
      "cell_type": "code",
      "execution_count": 25,
      "metadata": {
        "colab": {
          "base_uri": "https://localhost:8080/"
        },
        "id": "4oqMRxMW3sIz",
        "outputId": "a5f02da4-bbe7-4fad-9429-3d6028e20115"
      },
      "outputs": [
        {
          "output_type": "stream",
          "name": "stdout",
          "text": [
            "Drive already mounted at /content/drive; to attempt to forcibly remount, call drive.mount(\"/content/drive\", force_remount=True).\n"
          ]
        }
      ],
      "source": [
        "#Create an SQLite Database File:\n",
        "\n",
        "import sqlite3\n",
        "\n",
        "from google.colab import drive\n",
        "drive.mount('/content/drive')\n",
        "\n",
        "# Create a connection to a new database file\n",
        "conn = sqlite3.connect('/content/drive/MyDrive/BudgetAPP/budget.db')\n",
        "\n",
        "# Create a cursor object\n",
        "c = conn.cursor()\n",
        "\n",
        "# Create user table\n",
        "userid = 0\n",
        "c.execute(\n",
        "    '''\n",
        "    CREATE TABLE IF NOT EXISTS users (\n",
        "    id INTEGER PRIMARY KEY,\n",
        "    name TEXT NOT NULL\n",
        ")\n",
        "'''\n",
        ")\n",
        "\n",
        "# create account table\n",
        "c.execute(\n",
        "    ''' CREATE TABLE IF NOT EXISTS account(\n",
        "      id INTEGER PRIMARY KEY,\n",
        "      type TEXT NOT NULL\n",
        "    ) '''\n",
        ")\n",
        "\n",
        "# create credit cards table\n",
        "creditid = 1000\n",
        "c.execute(\n",
        "    ''' CREATE TABLE IF NOT EXISTS creditcards(\n",
        "      id INTEGER PRIMARY KEY,\n",
        "      name TEXT,\n",
        "      credit_limit INTEGER\n",
        "    ) '''\n",
        ")\n",
        "\n",
        "# create chequing account table\n",
        "accountid = 10\n",
        "c.execute(\n",
        "    ''' CREATE TABLE IF NOT EXISTS chequing(\n",
        "      id INTEGER PRIMARY KEY,\n",
        "      name TEXT,\n",
        "      current_amount INTEGER\n",
        "    ) '''\n",
        ")\n",
        "\n",
        "# Save (commit) the changes\n",
        "conn.commit()\n",
        "\n",
        "# Close the connection\n",
        "conn.close()\n"
      ]
    },
    {
      "cell_type": "code",
      "source": [],
      "metadata": {
        "id": "KXYcuAF6X9ts"
      },
      "execution_count": null,
      "outputs": []
    }
  ]
}