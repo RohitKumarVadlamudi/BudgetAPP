{
  "nbformat": 4,
  "nbformat_minor": 0,
  "metadata": {
    "colab": {
      "provenance": [],
      "authorship_tag": "ABX9TyN3LtQyMTYKkCNtyZhK0uy1",
      "include_colab_link": true
    },
    "kernelspec": {
      "name": "python3",
      "display_name": "Python 3"
    },
    "language_info": {
      "name": "python"
    }
  },
  "cells": [
    {
      "cell_type": "markdown",
      "metadata": {
        "id": "view-in-github",
        "colab_type": "text"
      },
      "source": [
        "<a href=\"https://colab.research.google.com/github/RohitKumarVadlamudi/BudgetAPP/blob/main/database.ipynb\" target=\"_parent\"><img src=\"https://colab.research.google.com/assets/colab-badge.svg\" alt=\"Open In Colab\"/></a>"
      ]
    },
    {
      "cell_type": "code",
      "source": [
        "!pip install -q ipython-sql\n",
        "# Load the ipython-sql extension\n",
        "%load_ext sql\n",
        "\n",
        "# Connect to your SQLite database file\n",
        "%sql sqlite:////content/drive/MyDrive/BudgetAPP/budget.db"
      ],
      "metadata": {
        "colab": {
          "base_uri": "https://localhost:8080/"
        },
        "id": "-kAVBmJ9ZR-Y",
        "outputId": "9b7bc9ff-a6b4-4709-d48b-befd47a9018e"
      },
      "execution_count": 19,
      "outputs": [
        {
          "output_type": "stream",
          "name": "stdout",
          "text": [
            "\u001b[?25l     \u001b[90m━━━━━━━━━━━━━━━━━━━━━━━━━━━━━━━━━━━━━━━━\u001b[0m \u001b[32m0.0/1.6 MB\u001b[0m \u001b[31m?\u001b[0m eta \u001b[36m-:--:--\u001b[0m\r\u001b[2K     \u001b[91m━━━━\u001b[0m\u001b[90m╺\u001b[0m\u001b[90m━━━━━━━━━━━━━━━━━━━━━━━━━━━━━━━━━━━\u001b[0m \u001b[32m0.2/1.6 MB\u001b[0m \u001b[31m5.3 MB/s\u001b[0m eta \u001b[36m0:00:01\u001b[0m\r\u001b[2K     \u001b[91m━━━━━━━━━━━━━━\u001b[0m\u001b[90m╺\u001b[0m\u001b[90m━━━━━━━━━━━━━━━━━━━━━━━━━\u001b[0m \u001b[32m0.6/1.6 MB\u001b[0m \u001b[31m8.0 MB/s\u001b[0m eta \u001b[36m0:00:01\u001b[0m\r\u001b[2K     \u001b[91m━━━━━━━━━━━━━━━━━━━━━━━━━━\u001b[0m\u001b[90m╺\u001b[0m\u001b[90m━━━━━━━━━━━━━\u001b[0m \u001b[32m1.0/1.6 MB\u001b[0m \u001b[31m9.8 MB/s\u001b[0m eta \u001b[36m0:00:01\u001b[0m\r\u001b[2K     \u001b[91m━━━━━━━━━━━━━━━━━━━━━━━━━━━━━━━━━━━━━━\u001b[0m\u001b[91m╸\u001b[0m\u001b[90m━\u001b[0m \u001b[32m1.5/1.6 MB\u001b[0m \u001b[31m10.7 MB/s\u001b[0m eta \u001b[36m0:00:01\u001b[0m\r\u001b[2K     \u001b[90m━━━━━━━━━━━━━━━━━━━━━━━━━━━━━━━━━━━━━━━━\u001b[0m \u001b[32m1.6/1.6 MB\u001b[0m \u001b[31m9.2 MB/s\u001b[0m eta \u001b[36m0:00:00\u001b[0m\n",
            "\u001b[?25h"
          ]
        }
      ]
    },
    {
      "cell_type": "code",
      "execution_count": 20,
      "metadata": {
        "colab": {
          "base_uri": "https://localhost:8080/"
        },
        "id": "4oqMRxMW3sIz",
        "outputId": "0c8ecf9c-58ce-413a-c286-d23dd2017f3b"
      },
      "outputs": [
        {
          "output_type": "stream",
          "name": "stdout",
          "text": [
            "Drive already mounted at /content/drive; to attempt to forcibly remount, call drive.mount(\"/content/drive\", force_remount=True).\n"
          ]
        }
      ],
      "source": [
        "#Create an SQLite Database File:\n",
        "\n",
        "import sqlite3\n",
        "\n",
        "from google.colab import drive\n",
        "drive.mount('/content/drive')\n",
        "\n",
        "# Create a connection to a new database file\n",
        "conn = sqlite3.connect('/content/drive/MyDrive/BudgetAPP/budget.db')\n",
        "\n",
        "# Create a cursor object\n",
        "c = conn.cursor()\n",
        "\n",
        "# Create user table\n",
        "c.execute(\n",
        "    '''\n",
        "    CREATE TABLE IF NOT EXISTS users (\n",
        "    id INTEGER PRIMARY KEY,\n",
        "    name TEXT NOT NULL\n",
        ")\n",
        "'''\n",
        ")\n",
        "\n",
        "# create account table\n",
        "c.execute(\n",
        "    ''' CREATE TABLE IF NOT EXISTS account(\n",
        "      id INTEGER PRIMARY KEY,\n",
        "      type TEXT NOT NULL\n",
        "    ) '''\n",
        ")\n",
        "\n",
        "# create credit cards table\n",
        "creditid = 1000\n",
        "c.execute(\n",
        "    ''' CREATE TABLE IF NOT EXISTS creditcards(\n",
        "      id INTEGER PRIMARY KEY,\n",
        "      name TEXT,\n",
        "      credit_limit INTEGER\n",
        "    ) '''\n",
        ")\n",
        "\n",
        "# create chequing account table\n",
        "c.execute(\n",
        "    ''' CREATE TABLE IF NOT EXISTS chequing(\n",
        "      id INTEGER PRIMARY KEY,\n",
        "      name TEXT,\n",
        "      current_amount INTEGER\n",
        "    ) '''\n",
        ")\n",
        "\n",
        "# Save (commit) the changes\n",
        "conn.commit()\n",
        "\n",
        "# Close the connection\n",
        "conn.close()\n"
      ]
    },
    {
      "cell_type": "code",
      "source": [],
      "metadata": {
        "id": "KXYcuAF6X9ts"
      },
      "execution_count": null,
      "outputs": []
    }
  ]
}